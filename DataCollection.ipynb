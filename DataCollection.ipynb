{
 "cells": [
  {
   "cell_type": "markdown",
   "id": "2b949ca7-4a19-428a-985b-1b8d84ee4fb6",
   "metadata": {},
   "source": [
    "# Step 1: Data Collection/Scraping"
   ]
  },
  {
   "cell_type": "markdown",
   "id": "d3bf997d-dbaa-4b7d-9e98-77738f376d5c",
   "metadata": {},
   "source": [
    "### Part 0: Source Brainstorm\n",
    "- Media formats: Websites, Blogs, Instagram Posts, Twitter Posts, Youtube Videos, Research Papers, **Books**\n",
    "- Topics: Pitching, Biomechanics, Pitching Training, Strength and Conditioning, Command, Velocity, Stuff, Pitch Analytics\n",
    "- Credible Sources: Tread Athletics, Driveline Baseball, ArmoredHeat, Medical Research, ConnectedPerformnace (Spinal Engine Theory), Baseball Performance, 108Performance\n",
    "- Starter Sources:\n",
    "    - Tread, Driveline"
   ]
  },
  {
   "cell_type": "markdown",
   "id": "698cb53d-5c42-449c-95bf-c32d18160a6b",
   "metadata": {},
   "source": [
    "### Objective:\n",
    "- Scrape publicly available baseball training articles from websites, blogs, social media posts.\n",
    "- Extract text content, without any unnecessary elements (ads/html)\n",
    "- Save clean text into csv file\n",
    "### Libraries for web scraping \n",
    "- **requests**\n",
    "    - sends HTTP requests to websites to retrieve data\n",
    "    - Downloads HTML content of a webpage\n",
    "    - Handles Errors\n",
    "- **BeautifulSoup**\n",
    "    - Python package for pasrsing HTML and XML documents\n",
    "    - Extracts specific elements (titles/paragraphs/links)\n",
    "    - Removes unwanted elements (ads, Javascript)\n",
    "    - Works with multiple parsers (html.parser, lxml)\n",
    "- **How they're used together...**\n",
    "    - **requests** fetches the raw HTML of a webpage.\n",
    "    - **BeautifulSoup** extracts the useful content\n",
    "    - Then we have to process, clean and store the data."
   ]
  },
  {
   "cell_type": "code",
   "execution_count": 3,
   "id": "98141bd2-b0a3-426f-89f8-2df485271895",
   "metadata": {},
   "outputs": [],
   "source": [
    "# Imports\n",
    "import requests\n",
    "from bs4 import BeautifulSoup\n",
    "import pandas as pd\n",
    "import time\n",
    "import os"
   ]
  },
  {
   "cell_type": "markdown",
   "id": "92dea974-c74d-4f3b-9e09-819cedf310c2",
   "metadata": {},
   "source": [
    "## Part 1: Websites + Blogs"
   ]
  },
  {
   "cell_type": "markdown",
   "id": "859eed48-e69e-47ae-90ea-f6eb955cb1c0",
   "metadata": {},
   "source": [
    "### Objective:\n",
    "- Scrape publicly available baseball training articles from websites and blogs. \n",
    "- Extract text content, without any unnecessary elements (ads/html)\n",
    "- Save clean text into csv file"
   ]
  },
  {
   "cell_type": "markdown",
   "id": "359b38fc-b11e-42c5-9b30-d493cc301f90",
   "metadata": {},
   "source": [
    "### Tread Athletics:"
   ]
  },
  {
   "cell_type": "code",
   "execution_count": 5,
   "id": "f0e8d042-f89a-4759-9c1a-2c04fe2a14b4",
   "metadata": {},
   "outputs": [
    {
     "name": "stdout",
     "output_type": "stream",
     "text": [
      "Scraping: https://treadathletics.com/posts/\n",
      "\n",
      "✅ Found Articles:\n",
      "1.  - https://treadathletics.com\n",
      "2. ABOUT - https://treadathletics.com/why-tread/\n",
      "3. RESULTS - https://treadathletics.com/featured-stories/\n",
      "4. TRAINING - https://treadathletics.com/coaching/\n",
      "5. REMOTE COACHING - https://treadathletics.com/coaching/\n",
      "6. IN-HOUSE TRAINING - https://treadathletics.com/in-house-training/\n",
      "7. FREE TRAINING (CATCHERS) - https://treadathletics.com/catchers/\n",
      "8. RESOURCES - https://treadathletics.com/downloads/\n",
      "9. FREE DOWNLOADS - https://treadathletics.com/downloads/\n",
      "10. OUR TEAM - https://treadathletics.com/our-team/\n",
      "11. SHOP - https://treadathletics.com/product-shop/\n",
      "12. CAREERS - https://treadathletics.com/careers/\n",
      "13. FULL-TIME - https://treadathletics.com/careers/\n",
      "14. INTERNSHIPS - https://treadathletics.com/internships/\n",
      "15. CONTACT - https://treadathletics.com/contact-us/\n",
      "16. ABOUT - https://treadathletics.com/why-tread/\n",
      "17. RESULTS - https://treadathletics.com/featured-stories/\n",
      "18. TRAINING - https://treadathletics.com/coaching/\n",
      "19. REMOTE COACHING - https://treadathletics.com/coaching/\n",
      "20. IN-HOUSE TRAINING - https://treadathletics.com/in-house-training/\n",
      "21. FREE TRAINING (CATCHERS) - https://treadathletics.com/catchers/\n",
      "22. RESOURCES - https://treadathletics.com/downloads/\n",
      "23. FREE DOWNLOADS - https://treadathletics.com/downloads/\n",
      "24. OUR TEAM - https://treadathletics.com/our-team/\n",
      "25. SHOP - https://treadathletics.com/product-shop/\n",
      "26. CAREERS - https://treadathletics.com/careers/\n",
      "27. FULL-TIME - https://treadathletics.com/careers/\n",
      "28. INTERNSHIPS - https://treadathletics.com/internships/\n",
      "29. CONTACT - https://treadathletics.com/contact-us/\n",
      "30.  - https://treadathletics.com\n",
      "31. ABOUT - https://treadathletics.com/why-tread/\n",
      "32. RESULTS - https://treadathletics.com/featured-stories/\n",
      "33. TRAINING - https://treadathletics.com/coaching/\n",
      "34. REMOTE COACHING - https://treadathletics.com/coaching/\n",
      "35. IN-HOUSE TRAINING - https://treadathletics.com/in-house-training/\n",
      "36. FREE TRAINING (CATCHERS) - https://treadathletics.com/catchers/\n",
      "37. RESOURCES - https://treadathletics.com/downloads/\n",
      "38. FREE DOWNLOADS - https://treadathletics.com/downloads/\n",
      "39. OUR TEAM - https://treadathletics.com/our-team/\n",
      "40. SHOP - https://treadathletics.com/product-shop/\n",
      "41. CAREERS - https://treadathletics.com/careers/\n",
      "42. FULL-TIME - https://treadathletics.com/careers/\n",
      "43. INTERNSHIPS - https://treadathletics.com/internships/\n",
      "44. CONTACT - https://treadathletics.com/contact-us/\n",
      "45. ABOUT - https://treadathletics.com/why-tread/\n",
      "46. RESULTS - https://treadathletics.com/featured-stories/\n",
      "47. TRAINING - https://treadathletics.com/coaching/\n",
      "48. REMOTE COACHING - https://treadathletics.com/coaching/\n",
      "49. IN-HOUSE TRAINING - https://treadathletics.com/in-house-training/\n",
      "50. FREE TRAINING (CATCHERS) - https://treadathletics.com/catchers/\n",
      "51. RESOURCES - https://treadathletics.com/downloads/\n",
      "52. FREE DOWNLOADS - https://treadathletics.com/downloads/\n",
      "53. OUR TEAM - https://treadathletics.com/our-team/\n",
      "54. SHOP - https://treadathletics.com/product-shop/\n",
      "55. CAREERS - https://treadathletics.com/careers/\n",
      "56. FULL-TIME - https://treadathletics.com/careers/\n",
      "57. INTERNSHIPS - https://treadathletics.com/internships/\n",
      "58. CONTACT - https://treadathletics.com/contact-us/\n",
      "59. homepage - https://www.treadathletics.com\n",
      "60.  - https://treadathletics.com/2024-year-in-review/\n",
      "61. 2024 Year In Review - https://treadathletics.com/2024-year-in-review/\n",
      "62. Read More » - https://treadathletics.com/2024-year-in-review/\n",
      "63.  - https://treadathletics.com/2024-pro-day/\n",
      "64. Tread HQ: Pro Day ’24 Recap - https://treadathletics.com/2024-pro-day/\n",
      "65. Read More » - https://treadathletics.com/2024-pro-day/\n",
      "66.  - https://treadathletics.com/2023-year-in-review/\n",
      "67. 2023 Year in Review - https://treadathletics.com/2023-year-in-review/\n",
      "68. Read More » - https://treadathletics.com/2023-year-in-review/\n",
      "69.  - https://treadathletics.com/tread-amateur-pro-weekend-23-recap/\n",
      "70. Tread Amateur Pro Weekend ’23 Recap - https://treadathletics.com/tread-amateur-pro-weekend-23-recap/\n",
      "71. Read More » - https://treadathletics.com/tread-amateur-pro-weekend-23-recap/\n",
      "72.  - https://treadathletics.com/2023-pro-day-recap/\n",
      "73. Tread HQ: Pro Day ’23 Recap - https://treadathletics.com/2023-pro-day-recap/\n",
      "74. Read More » - https://treadathletics.com/2023-pro-day-recap/\n",
      "75.  - https://treadathletics.com/2022-year-in-review/\n",
      "76. 2022 Year in Review: Open the Floodgates - https://treadathletics.com/2022-year-in-review/\n",
      "77. Read More » - https://treadathletics.com/2022-year-in-review/\n",
      "78. Get the first two chapters free - https://treadathletics.com/95-mph-body/\n",
      "79. Why Tread - https://treadathletics.com/why-tread/\n",
      "80. Results - https://treadathletics.com/featured-stories/\n",
      "81. Our Team - https://treadathletics.com/our-team/\n",
      "82. Contact - https://treadathletics.com/contact-us/\n",
      "83. Downloads - https://treadathletics.com/downloads/\n",
      "84. Athlete Map - https://treadathletics.com/map/\n",
      "85. Careers - https://treadathletics.com/careers/\n",
      "86. Internships - https://treadathletics.com/internships/\n",
      "87. Media Inquiries - https://treadathletics.com/media-relations/\n",
      "88. Remote - https://treadathletics.com/coaching/\n",
      "89. In-House - https://treadathletics.com/in-house-training/\n",
      "90. Free Catcher Training - https://treadathletics.com/catchers/\n",
      "91. Reach out - https://treadathletics.com/contact-us/\n"
     ]
    }
   ],
   "source": [
    "# Go through each page of their blob section, extract all article titles\n",
    "base_url = \"https://treadathletics.com/posts/\"\n",
    "page_url = base_url  # Start from the first page\n",
    "\n",
    "# Store titles in a list\n",
    "all_articles = []\n",
    "\n",
    "while page_url:\n",
    "    print(f\"Scraping: {page_url}\")\n",
    "\n",
    "    # Send HTTP request\n",
    "    headers = {\"User-Agent\": \"Mozilla/5.0\"}\n",
    "    response = requests.get(page_url, headers=headers)\n",
    "\n",
    "    if response.status_code != 200:\n",
    "        print(f\"⚠️ Failed to access {page_url}\")\n",
    "        break\n",
    "\n",
    "    # Parse HTML content\n",
    "    soup = BeautifulSoup(response.text, \"html.parser\")\n",
    "\n",
    "    # Find all article elements (titles and links)\n",
    "    article_links = soup.find_all(\"a\", href=True)\n",
    "\n",
    "    for link in article_links:\n",
    "        title = link.text.strip()\n",
    "        url = link[\"href\"]\n",
    "\n",
    "        # Filter out navigation links, only keep post links\n",
    "        if \"/posts/\" not in url and \"treadathletics.com\" in url:\n",
    "            all_articles.append({\"title\": title, \"url\": url})\n",
    "\n",
    "    # 📌 Find \"Next\" page button (if available)\n",
    "    next_page = soup.find(\"a\", class_=\"next page-numbers\")\n",
    "\n",
    "    if next_page:\n",
    "        page_url = next_page[\"href\"]  # Get next page URL\n",
    "        time.sleep(2)  # Pause to avoid getting blocked\n",
    "    else:\n",
    "        page_url = None  # Stop when no \"Next\" button exists\n",
    "\n",
    "# 📌 Print all collected article titles and links\n",
    "print(\"\\n✅ Found Articles:\")\n",
    "for idx, article in enumerate(all_articles, start=1):\n",
    "    print(f\"{idx}. {article['title']} - {article['url']}\")"
   ]
  },
  {
   "cell_type": "code",
   "execution_count": 4,
   "id": "48eee2b3-9135-4661-a21f-f08842e6b0fc",
   "metadata": {},
   "outputs": [],
   "source": [
    "# Print titles, decide which are relevant for Pitching Chatbot"
   ]
  },
  {
   "cell_type": "code",
   "execution_count": null,
   "id": "37d306b2-753a-4763-b6ee-88f68a1a2927",
   "metadata": {},
   "outputs": [],
   "source": [
    "# Go through useful articles and extract text"
   ]
  },
  {
   "cell_type": "markdown",
   "id": "4d00bb8c-5dca-45fd-8e14-1fbfbdc1f764",
   "metadata": {},
   "source": [
    "## Part 2: Social Media Posts - Text"
   ]
  },
  {
   "cell_type": "markdown",
   "id": "88d9ff07-84ae-4bd0-ade5-d10b0463b072",
   "metadata": {},
   "source": [
    "## Part 3: Social Media Posts - Videos "
   ]
  },
  {
   "cell_type": "markdown",
   "id": "799adaf3-5071-4e3a-990b-0667d2192adf",
   "metadata": {},
   "source": [
    "### Objective\n",
    "- Scrape from short and long term educational videos (Tread Youtube Playlist, Tread Instagram Posts, Driveline Youtube Playlist, Driveline Posts ...)\n"
   ]
  },
  {
   "cell_type": "markdown",
   "id": "ff3583a0-df61-4b77-90d4-38b9be0ebf1b",
   "metadata": {},
   "source": [
    "### Part 4: Free Educational Downloads..."
   ]
  },
  {
   "cell_type": "markdown",
   "id": "3ae88d23-fe63-4d73-a2d4-16d666fb0b3b",
   "metadata": {},
   "source": [
    "- Tread\n",
    "    - Sample Throwing Program\n",
    "    - Gain Up To 3-5 Pounds In The Next 3 Weeks\n",
    "    - Get An In-Season Routine (Free Download)\n",
    "    - See How You Stack Up (Free Analysis)\n",
    "- "
   ]
  },
  {
   "cell_type": "code",
   "execution_count": null,
   "id": "9a2e2106-5d0e-4bb7-bebe-6842634520a8",
   "metadata": {},
   "outputs": [],
   "source": []
  }
 ],
 "metadata": {
  "kernelspec": {
   "display_name": "Python 3 (ipykernel)",
   "language": "python",
   "name": "python3"
  },
  "language_info": {
   "codemirror_mode": {
    "name": "ipython",
    "version": 3
   },
   "file_extension": ".py",
   "mimetype": "text/x-python",
   "name": "python",
   "nbconvert_exporter": "python",
   "pygments_lexer": "ipython3",
   "version": "3.11.11"
  }
 },
 "nbformat": 4,
 "nbformat_minor": 5
}
