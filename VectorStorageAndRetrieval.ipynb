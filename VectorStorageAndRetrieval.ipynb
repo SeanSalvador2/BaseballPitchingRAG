{
 "cells": [
  {
   "cell_type": "markdown",
   "id": "7e7f0e83-b2f3-4a81-bb49-0b58784479e7",
   "metadata": {},
   "source": [
    "### How to create/choose the correct Vector Database"
   ]
  },
  {
   "cell_type": "code",
   "execution_count": null,
   "id": "1b1084a2-9efd-4b29-91fb-fe0ba70cd687",
   "metadata": {},
   "outputs": [],
   "source": []
  }
 ],
 "metadata": {
  "kernelspec": {
   "display_name": "Python 3 (ipykernel)",
   "language": "python",
   "name": "python3"
  },
  "language_info": {
   "codemirror_mode": {
    "name": "ipython",
    "version": 3
   },
   "file_extension": ".py",
   "mimetype": "text/x-python",
   "name": "python",
   "nbconvert_exporter": "python",
   "pygments_lexer": "ipython3",
   "version": "3.11.11"
  }
 },
 "nbformat": 4,
 "nbformat_minor": 5
}
